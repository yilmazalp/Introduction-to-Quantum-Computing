{
 "cells": [
  {
   "cell_type": "markdown",
   "id": "0b2ec9a2-1201-4cb4-842f-b16486d816da",
   "metadata": {},
   "source": [
    "# Introduction to Quantum Computing\n",
    "\n",
    "These notes introduce the theoretical foundations of quantum computing, including: \n",
    "- Quantum states and qubits\n",
    "- Measurement of a quantum state\n",
    "- Quantum gates\n",
    "  \n",
    "We will also implement examples using Python and Qiskit."
   ]
  },
  {
   "cell_type": "markdown",
   "id": "804e8f35-390f-4e32-a27e-24628bf851b4",
   "metadata": {},
   "source": [
    "## Quantum states and qubits\n",
    "\n",
    "The fundamental unit in quantum information theory is an $m$-dimensional quantum state, which is called $\\textit{quantum digit}$ (or $\\textit{qudit}$). If $m=2$, then the $2$-dimensional quantum state is called $\\textit{quantum bit}$ (or commonly saying $\\textit{qubit}$). A qubit is represented by \"ket\", $\\ket{.}$, and it can be expressed as \n",
    "\n",
    "$$\n",
    "    \\ket{\\psi} = a\\ket{0} + b\\ket{1} = a \\begin{pmatrix} 1 \\\\ 0 \\end{pmatrix} + b \\begin{pmatrix} 0 \\\\ 1 \\end{pmatrix} \n",
    "$$\n",
    "\n",
    "where $a,b \\in \\mathbb{C}$ and $|a|^2 + |b|^2 = 1$. The state $\\ket{\\psi}$ is called $\\textit{superposition}$ of $\\ket{0}$ and $\\ket{1}$. \n",
    "\n",
    "Note that a superposition is $\\textit{normalized}$, which means the squared sum of coefficients is equal to $1$. In other words, the length of a superposition $\\ket{\\psi}$ is $1$. \n",
    "\n",
    "For example, $\\ket{+} = \\frac{1}{\\sqrt{2}}(\\ket{0} + \\ket{1})$ is a quantum state, which is a normalized $2$-dimensional vector: $\\ket{+} = \\frac{1}{\\sqrt{2}} \\begin{pmatrix} 1 \\\\ 1 \\end{pmatrix}$ and $|\\frac{1}{\\sqrt{2}}|^{2} + |\\frac{1}{\\sqrt{2}}|^{2} = 1$.\n",
    "\n",
    "Another example of a quantum state is $\\ket{-} = \\frac{1}{\\sqrt{2}}(\\ket{0} - \\ket{1})$. It is normalized and expressed as follows: $\\ket{-} = \\frac{1}{\\sqrt{2}} \\begin{pmatrix} 1 \\\\ -1 \\end{pmatrix}$ and $|\\frac{1}{\\sqrt{2}}|^{2} + |\\frac{-1}{\\sqrt{2}}|^{2} = 1$."
   ]
  },
  {
   "cell_type": "markdown",
   "id": "475e1d74-1c18-4b6e-ad31-aa0e315ef74d",
   "metadata": {},
   "source": [
    "### Normalization of Qubit States\n",
    "\n",
    "Suppose we are given a state that is **not** normalized:\n",
    "\n",
    "$$ \\ket{\\psi} = a\\ket{0} + b\\ket{1}, \\quad \\text{with } |a|^2 + |b|^2 \\ne 1 $$\n",
    "\n",
    "To normalize it, we define:\n",
    "\n",
    "$$ \\alpha = \\frac{a}{\\sqrt{|a|^2 + |b|^2}}, \\quad \\beta = \\frac{b}{\\sqrt{|a|^2 + |b|^2}} $$\n",
    "\n",
    "Then, the normalized state is:\n",
    "\n",
    "$$ \\ket{\\psi'} = \\alpha\\ket{0} + \\beta\\ket{1}, \\quad \\text{where } |\\alpha|^2 + |\\beta|^2 = 1 $$"
   ]
  },
  {
   "cell_type": "markdown",
   "id": "0e3a015d-0a83-460e-b1f9-5ef103b5df5d",
   "metadata": {},
   "source": [
    "#### Code example: normalization of a state\n",
    "\n",
    "Given the initial qubits $\\ket{0}$ and $\\ket{1}$, we construct a function *normalization_state* with two parameters, $\\alpha$ and $\\beta$, that are amplitudes of the initial state. The aim of our code is to implement the normalization of a given state. "
   ]
  },
  {
   "cell_type": "code",
   "execution_count": 35,
   "id": "e4025851-b1af-4244-ae0c-c9211fbfaca7",
   "metadata": {},
   "outputs": [],
   "source": [
    "import numpy as np\n",
    "\n",
    "# Here are the vector representations of |0> and |1>, for convenience\n",
    "ket_0 = np.array([1, 0])\n",
    "ket_1 = np.array([0, 1])\n",
    "\n",
    "\n",
    "def normalize_state(alpha, beta):\n",
    "    \"\"\"Compute a normalized quantum state given arbitrary amplitudes.\n",
    "\n",
    "    Args:\n",
    "        alpha (complex): The amplitude associated with the |0> state.\n",
    "        beta (complex):  The amplitude associated with the |1> state.\n",
    "\n",
    "    Returns:\n",
    "        np.array[complex]: A vector (numpy array) with 2 elements that represents\n",
    "        a normalized quantum state.\n",
    "    \"\"\"\n",
    "    # define the state vector\n",
    "    state_vector = alpha * ket_0 + beta * ket_1\n",
    "    \n",
    "    # compute normalization factor and obtain the normalized vector such that |a'|^2 + |b'|^2 = 1\n",
    "    normalization_factor = np.linalg.norm(state_vector)\n",
    "    \n",
    "    if normalization_factor == 0:\n",
    "        raise ValueError(\"Cannot normalize the zero vector.\")\n",
    "    else:\n",
    "        normalized_vector = state_vector/normalization_factor\n",
    "    \n",
    "    # return the normalized state\n",
    "    return normalized_vector\n"
   ]
  },
  {
   "cell_type": "code",
   "execution_count": 41,
   "id": "78064d4b-dc31-4905-ab20-300cdd29800c",
   "metadata": {},
   "outputs": [
    {
     "data": {
      "text/plain": [
       "array([0.70710678, 0.70710678])"
      ]
     },
     "execution_count": 41,
     "metadata": {},
     "output_type": "execute_result"
    }
   ],
   "source": [
    "normalize_state(0.5, 0.5)"
   ]
  },
  {
   "cell_type": "markdown",
   "id": "6be92f64-9f82-46b1-a5a1-044379ccf5d2",
   "metadata": {},
   "source": [
    "Note that $\\ket{\\psi} = \\frac{1}{2}\\ket{0} + \\frac{1}{2}\\ket{1}$ is not normalized. After a normalization process, our quantum state is $\\ket{\\psi^{'}} = \\frac{1}{\\sqrt{2}}\\ket{0} + \\frac{1}{\\sqrt{2}}\\ket{1}$"
   ]
  },
  {
   "cell_type": "markdown",
   "id": "56ede74f-2147-40d0-bd55-598586395640",
   "metadata": {},
   "source": [
    "### Bra and inner product\n",
    "\n",
    "The conjugate transpose of a ket is called \"bra\" and is denoted as $\\bra{.}$. The bra of the state $\\ket{\\psi}$ is expressed as \n",
    "\n",
    "$$\\bra{\\psi}:= \\ket{\\psi}^{\\dagger} = a^{*}\\bra{0} + b^{*}\\bra{1} = a^{*}\\begin{pmatrix} 1 & 0 \\end{pmatrix} + b^{*}\\begin{pmatrix} 0 & 1 \\end{pmatrix}$$ Note that the symbol of \"dagger\", $\\dagger$,  represents *conjugate transpose*, or it said to be *Hermitian transpose*. "
   ]
  },
  {
   "cell_type": "markdown",
   "id": "5334bbfd-1ad9-4184-9e19-bc976d522054",
   "metadata": {},
   "source": [
    "Remind that the inner product between two vectors, say $u, v \\in \\mathbb{R}^{n}$, is stated as $\\braket{u,v} = u^{T}v$. Regarding the quantum states and their vector representations, the inner product between two states, $\\ket{\\psi}, \\ket{\\phi} \\in \\mathbb{C}^{n}$, can be denoted as  $\\braket{\\phi | \\psi}$. It is expressed as $\\braket{\\phi|\\psi} = \\ket{\\phi}^{\\dagger}\\ket{\\psi}$. The inner products between $\\ket{0}$ and $\\ket{1}$ are stated as follows:  \n",
    "\n",
    "$$ \\braket{0 | 0} = \\begin{pmatrix} 1 & 0 \\end{pmatrix} \\begin{pmatrix} 1 \\\\ 0 \\end{pmatrix} = 1 \\cdot 1 + 0 \\cdot 0 = 1$$\n",
    "$$ \\braket{0 | 1} = \\begin{pmatrix} 1 & 0 \\end{pmatrix} \\begin{pmatrix} 0 \\\\ 1 \\end{pmatrix} = 1 \\cdot 0 + 0 \\cdot 1 = 0$$\n",
    "$$ \\braket{1 | 0} = \\begin{pmatrix} 0 & 1 \\end{pmatrix} \\begin{pmatrix} 1 \\\\ 0 \\end{pmatrix} = 0 \\cdot 1 + 1 \\cdot 0 = 0$$\n",
    "$$ \\braket{1 | 1} = \\begin{pmatrix} 0 & 1 \\end{pmatrix} \\begin{pmatrix} 0 \\\\ 1 \\end{pmatrix} = 0 \\cdot 0 + 1 \\cdot 1 = 1$$\n",
    "\n",
    "\n",
    "If the inner product of two vectors is equal to $0$, then the two vectors are called $\\textit{orthogonal}$. A set of linearly independent vectors that spans of a vector space is called $\\textit{basis}$. Note that the set $\\{\\ket{0}, \\ket{1}\\}$ forms a basis because $\\ket{0}$ and $\\ket{1}$ spans the $2$-dimensional state space and the two qubits are linearly independent. This basis is called $\\textit{computational basis}$. If a basis consists of two normalized orthogonal vectors, it is called an $\\textit{orthonormal basis}$."
   ]
  },
  {
   "cell_type": "markdown",
   "id": "d064f341-74b0-4672-8d6d-7b1beb1cd90c",
   "metadata": {},
   "source": [
    "#### Code example: inner product of two states\n",
    "\n",
    "We implement a function *inner_product* taking two parameters which are quantum states. Through the function, we aim to return the inner products of given initial states. "
   ]
  },
  {
   "cell_type": "code",
   "execution_count": 47,
   "id": "4f5528e7-4aa2-4a48-95c3-4fbec473ed7d",
   "metadata": {},
   "outputs": [
    {
     "name": "stdout",
     "output_type": "stream",
     "text": [
      "<0|0> = 1\n",
      "<0|1> = 0\n",
      "<1|0> = 0\n",
      "<1|1> = 1\n"
     ]
    }
   ],
   "source": [
    "def inner_product(state_1, state_2):\n",
    "    \"\"\"Compute the inner product between two states.\n",
    "\n",
    "    Args:\n",
    "        state_1 (np.array[complex]): A normalized quantum state vector\n",
    "        state_2 (np.array[complex]): A second normalized quantum state vector\n",
    "\n",
    "    Returns:\n",
    "        complex: The value of the inner product <state_1 | state_2>.\n",
    "    \"\"\"\n",
    "    \n",
    "    # compute and return the inner product\n",
    "    return np.conj(state_1[0])*state_2[0] + np.conj(state_1[1])*state_2[1]\n",
    "\n",
    "\n",
    "ket_0 = np.array([1, 0])\n",
    "ket_1 = np.array([0, 1])\n",
    "\n",
    "# print our results with the function we have written\n",
    "print(f\"<0|0> = {inner_product(ket_0, ket_0)}\")\n",
    "print(f\"<0|1> = {inner_product(ket_0, ket_1)}\")\n",
    "print(f\"<1|0> = {inner_product(ket_1, ket_0)}\")\n",
    "print(f\"<1|1> = {inner_product(ket_1, ket_1)}\")\n"
   ]
  },
  {
   "cell_type": "markdown",
   "id": "84d746a7-426f-44bc-aef2-503fb0469c6f",
   "metadata": {},
   "source": [
    "## Measurement of a quantum state \n",
    "\n",
    "In order to perform a meaningful quantum computation, we will need a way to get information from a quantum state. This can be achieved by $\\textit{measurement}$. It is a probabilistic method that gives information about the probability of observing a qubit $\\ket{0}$ and $\\ket{1}$. After measurement of state, we can observe that the state collapses to $\\ket{0}$ or $\\ket{1}$ (in the computational basis) with some probabilities. \n",
    "\n",
    "A set of measurement operators $\\{M_{m}\\}_{m}$ satisfying $\\sum_{m} M_{m}^{\\dagger}M_{m} = I$ describe a *quantum measurement*, where $m$ denotes possible outcomes. The probability of getting outcome $m$ after the measurement of the state $\\ket{\\psi}$ is described as \n",
    "$$ p(m) = \\bra{\\psi}M_{m}^{\\dagger}M_{m}\\ket{\\psi}$$\n",
    "\n",
    "After getting the outcome $m$, the state $\\ket{\\psi}$ collapses into a state $\\ket{\\psi_{m}}$, which can be defined as \n",
    "\n",
    "$$ \\ket{\\psi_{m}} = \\frac{M_{m} \\ket{\\psi}}{\\sqrt{\\bra{\\psi}M_{m}^{\\dagger}M_{m}\\ket{\\psi}}} = \\frac{M_{m} \\ket{\\psi}}{\\sqrt{p(m)}}$$"
   ]
  },
  {
   "cell_type": "markdown",
   "id": "3a1247a0-4e92-47a2-a34d-a7843d8abc9d",
   "metadata": {},
   "source": [
    "**Example:** Given a quantum state $\\psi = \\frac{1}{2} \\ket{0} - \\frac{\\sqrt{3}i}{2} \\ket{1}$, let's compute the probability of getting outcomes $\\ket{0}$ and $\\ket{1}$ after measurement. It can be easily seen that the state is normalized. Here we consider the measurement operators a **projective measurement** (we will introduce this concept in the next lectures) in the computational basis:\n",
    "\n",
    "$$ M_0 = \\ket{0}\\bra{0}, \\quad M_1 = \\ket{1}\\bra{1} $$\n"
   ]
  },
  {
   "cell_type": "markdown",
   "id": "401c47f3-0bd1-4e57-839b-bf1ca4a79cf0",
   "metadata": {},
   "source": [
    "The probability of getting $0$ is that \n",
    "\n",
    "\\begin{align*}\n",
    "    p(0) &= \\bra{\\psi}M_{0}^{\\dagger}M_{0}\\ket{\\psi} \\\\\n",
    "         &= \\bra{\\psi}\\ket{0}\\bra{0}\\ket{0}\\bra{0}\\ket{\\psi}\\\\\n",
    "         &= \\bra{\\psi}\\ket{0}1\\bra{0}\\ket{\\psi}\\\\\n",
    "         &= \\bra{\\psi}\\ket{0}\\bra{0}\\ket{\\psi}\\\\\n",
    "         &= \\begin{pmatrix} \\frac{1}{2} & \\frac{\\sqrt{3}}{2}i \\end{pmatrix} \\begin{pmatrix} 1 & 0 \\\\ 0 & 0\\end{pmatrix} \\begin{pmatrix} \\frac{1}{2} \\\\ -\\frac{\\sqrt{3}}{2}i \\end{pmatrix} \\\\\n",
    "         &= \\frac{1}{4}\n",
    "\\end{align*}"
   ]
  },
  {
   "cell_type": "markdown",
   "id": "ee308b38-ab00-43bc-88e7-6cf773b8934e",
   "metadata": {},
   "source": [
    "The probability of getting the outcome of $1$ is: \n",
    "\n",
    "\\begin{align*}\n",
    "    p(1) &= \\bra{\\psi}M_{1}^{\\dagger}M_{1}\\ket{\\psi} \\\\\n",
    "         &= \\bra{\\psi}\\ket{1}\\bra{1}\\ket{1}\\bra{1}\\ket{\\psi}\\\\\n",
    "         &= \\bra{\\psi}\\ket{1}1\\bra{1}\\ket{\\psi}\\\\\n",
    "         &= \\bra{\\psi}\\ket{1}\\bra{1}\\ket{\\psi}\\\\\n",
    "         &= \\begin{pmatrix} \\frac{1}{2} & \\frac{\\sqrt{3}}{2}i \\end{pmatrix} \\begin{pmatrix} 0 & 0 \\\\ 0 & 1\\end{pmatrix} \\begin{pmatrix} \\frac{1}{2} \\\\ -\\frac{\\sqrt{3}}{2}i \\end{pmatrix} \\\\\n",
    "         &= \\frac{3}{4}\n",
    "\\end{align*}"
   ]
  },
  {
   "cell_type": "markdown",
   "id": "c9ed01e0-61f0-48f5-8806-70aae74aa47f",
   "metadata": {},
   "source": [
    "After getting the outcome of $0$, the state collapses to\n",
    "\n",
    "$$\\ket{\\psi_{0}} = \\frac{M_{0} \\ket{\\psi}}{\\sqrt{p(0)}} = \\frac{ \\begin{pmatrix} 1 & 0 \\\\ 0 & 0\\end{pmatrix}  \\begin{pmatrix} \\frac{1}{2} \\\\ -\\frac{\\sqrt{3}}{2}i \\end{pmatrix} }{\\frac{1}{2}} = \\begin{pmatrix} 1 \\\\ 0 \\end{pmatrix} = \\ket{0}$$"
   ]
  },
  {
   "cell_type": "markdown",
   "id": "3b645aaa-4c87-41fa-a676-71b9dfab98d0",
   "metadata": {},
   "source": [
    "After measurement of the state, we will obtain the outcome of $1$ with the probability $\\frac{3}{4}$. The state collapses to\n",
    "\n",
    "$$\\ket{\\psi_{1}} = \\frac{M_{1} \\ket{\\psi}}{\\sqrt{p(1)}} = \\frac{ \\begin{pmatrix} 0 & 0 \\\\ 0 & 1\\end{pmatrix}  \\begin{pmatrix} \\frac{1}{2} \\\\ -\\frac{\\sqrt{3}}{2}i \\end{pmatrix} }{\\frac{\\sqrt{3}}{2}} = -i \\begin{pmatrix} 0 \\\\ 1 \\end{pmatrix} = -i \\ket{1}$$"
   ]
  },
  {
   "cell_type": "markdown",
   "id": "b9cbcf87-49b8-4771-ba05-a3eb81be6315",
   "metadata": {},
   "source": [
    "Note: The global phase factor $(-i)$ has no observable effect and can often be ignored in quantum mechanics."
   ]
  },
  {
   "cell_type": "markdown",
   "id": "89d79b9d-bf7e-428e-a4d5-f18a60a00a07",
   "metadata": {},
   "source": [
    "#### Code example: Measuerement of a quantum state \n",
    "\n",
    "We code a function *measure_state* with the parameter of a quantum state and the number of measurements. We aim to simulate the outcomes of an arbitrary number of quantum measurements. More precisely, we desire to return a list of samples $0$ and $1$ based on the probabilities given by the input state. \n",
    "\n",
    "For example, given $state = np.array([0.8, 0.6])$, after the measurement, we observe $\\ket{0}$ with the probability of **64%**, $\\ket{1}$ with the probability of **36%**. Thus, if we measure the state $10$ times, the result list might be $$[0, 1, 0, 1, 0, 1, 1, 0 ,0 ,0]$$"
   ]
  },
  {
   "cell_type": "code",
   "execution_count": 109,
   "id": "11d96fbb-0f58-4180-8b59-f921b8a53156",
   "metadata": {},
   "outputs": [],
   "source": [
    "def measure_state(state, num_meas):\n",
    "    \"\"\"Simulate a quantum measurement process.\n",
    "\n",
    "    Args:\n",
    "        state (np.array[complex]): A normalized qubit state vector.\n",
    "        num_meas (int): The number of measurements to take\n",
    "\n",
    "    Returns:\n",
    "        np.array[int]: A set of num_meas samples, 0 or 1, chosen according to the probability\n",
    "        distribution defined by the input state.\n",
    "    \"\"\"\n",
    "\n",
    "    # compute the measurement outcome probabilities\n",
    "    measure_q1 = abs(state[0])**2\n",
    "    measure_q2 = abs(state[1])**2\n",
    "    \n",
    "    # return a list of sample masurement outcomes\n",
    "    return np.random.choice([0,1], num_meas, p=[measure_q1, measure_q2])\n"
   ]
  },
  {
   "cell_type": "code",
   "execution_count": 119,
   "id": "0e7a49d3-124a-4b9b-b70a-44dbf5b9c2c3",
   "metadata": {},
   "outputs": [
    {
     "data": {
      "text/plain": [
       "array([0, 1, 0, 0, 0, 0, 1, 1, 0, 0])"
      ]
     },
     "execution_count": 119,
     "metadata": {},
     "output_type": "execute_result"
    }
   ],
   "source": [
    "measure_state([0.8,0.6], 10)"
   ]
  },
  {
   "cell_type": "code",
   "execution_count": 122,
   "id": "e5646c46-0ad6-4df7-9012-ce8c8470e2fe",
   "metadata": {},
   "outputs": [
    {
     "data": {
      "image/png": "[encoded data removed]",
      "text/plain": [
       "<Figure size 640x480 with 1 Axes>"
      ]
     },
     "metadata": {},
     "output_type": "display_data"
    }
   ],
   "source": [
    "# viusalize the measurement outcomes \n",
    "\n",
    "import matplotlib.pyplot as plt\n",
    "from collections import Counter\n",
    "\n",
    "results = measure_state([0.8, 0.6], 1000)\n",
    "counts = Counter(results)\n",
    "plt.bar(counts.keys(), counts.values())\n",
    "plt.xticks([0, 1])\n",
    "plt.xlabel('Measurement outcome')\n",
    "plt.ylabel('Frequency')\n",
    "plt.title('Measurement Results')\n",
    "plt.show()"
   ]
  },
  {
   "cell_type": "markdown",
   "id": "cb56ad1c-c932-45f5-8ff3-18d087f26f16",
   "metadata": {},
   "source": [
    "## Quantum gates\n",
    "\n",
    "A complex square matrix $U \\in \\mathbb{C}^{2 \\times 2}$ is called $\\textit{unitary}$ if and only if its inverse is equal to its Hermitian transpose, which means  $$U^{\\dagger}U = I$$. The most basic unitary matrices (or we say operators as well) are the $\\textit{Pauli}$ matrices that are defined by, \n",
    "\n",
    "$$ I = \\begin{pmatrix} 1 & 0 \\\\ 0 & 1 \\end{pmatrix} \\quad\\quad\\quad  X = \\begin{pmatrix} 0 & 1 \\\\ 1 & 0 \\end{pmatrix}$$\n",
    "$$ Y = \\begin{pmatrix} 0 & -i \\\\ i & 0 \\end{pmatrix} \\quad\\quad\\quad Z = \\begin{pmatrix} 1 & 0 \\\\ 0 & -1 \\end{pmatrix}$$\n",
    "\n",
    "Note that the non-identity Pauli operators have order $2$, which means square of themselves is equal to the indentity. Also their traces are zero and have eigenvalues $1$ or $-1$. The group generated by these four gates is called $\\textit{Pauli group}$: \n",
    "\n",
    "$$ \\mathscr{P}:= <I, X, Y, Z> = \\{I, iI, X, iX, Y, iY, Z, iZ\\}$$\n",
    "\n",
    "$X$-gate is called $\\textit{bit-flip gate}$ and it is analogous to the classical **NOT** gate, $$X\\ket{0} = \\ket{1} \\quad\\text{ and }\\quad X\\ket{1} = \\ket{0}$$. We call $Z$-gate as $\\textit{phase-flip gate}$, it flips the **phases**: $$Z\\ket{0} = \\ket{0} \\quad\\text{ and }\\quad Z\\ket{1} = -\\ket{1}$$. \n",
    "$Y$-gate flips both bits and phases: $$ Y\\ket{0} = i\\ket{0} \\quad\\text{ and }\\quad Y\\ket{1} = -i\\ket{1}$$"
   ]
  },
  {
   "cell_type": "markdown",
   "id": "b52d9036-8ce8-4f9a-a2c0-252d34c350a1",
   "metadata": {},
   "source": [
    "**Example:** Suppose that the state $\\ket{\\psi}$ is defined as \n",
    "$$ \\ket{\\psi} = \\frac{1}{2}\\ket{0} - \\frac{\\sqrt{3}}{2}i\\ket{1}$$ If we apply the Pauli gates, we would obtain different states.\n",
    "\n",
    "$$ X\\ket{\\psi} = \\frac{1}{2}X\\ket{0} - \\frac{\\sqrt{3}}{2}iX\\ket{1} = - \\frac{\\sqrt{3}}{2}i\\ket{0}+\\frac{1}{2}\\ket{1} $$ In this case, clearly, the probability values of getting $0$ and $1$ after the measurement will be exchanged. "
   ]
  },
  {
   "cell_type": "markdown",
   "id": "4012270e-ecd7-4fd7-aba4-660133036f3c",
   "metadata": {},
   "source": [
    "Applying $Y$ gate, we obtain that \n",
    "\n",
    "\\begin{align*}\n",
    "Y\\ket{\\psi}    &= \\frac{1}{2}Y\\ket{0} - \\frac{\\sqrt{3}}{2}iY\\ket{1} \\\\\n",
    "               &= \\frac{1}{2}i\\ket{1} - \\frac{\\sqrt{3}}{2}i(-i)\\ket{0} \\\\\n",
    "               &= - \\frac{\\sqrt{3}}{2}\\ket{0} + \\frac{1}{2}i\\ket{1}\n",
    "\\end{align*}\n",
    "\n",
    "Again, the probability of getting $0$ and $1$ are $\\frac{3}{4}$ and $\\frac{1}{4}$ after a measurement of $Y\\ket{\\psi}$. "
   ]
  },
  {
   "cell_type": "markdown",
   "id": "4feb7780-ac70-4213-9f52-65439edd8a35",
   "metadata": {},
   "source": [
    "Lastly, if we apply the phase-flip gate, $Z$ on the state $\\ket{\\psi}$, we obtain\n",
    "$$ Z\\ket{\\psi} = \\frac{1}{2}Z\\ket{0} - \\frac{\\sqrt{3}}{2}iZ\\ket{1} = \\frac{1}{2}\\ket{0}+\\frac{\\sqrt{3}}{2}i\\ket{1} $$\n",
    "Note that, we do flip only the phases, not the bits. That's why the probabilites of getting the two outcomes will not be changed.  "
   ]
  },
  {
   "cell_type": "code",
   "execution_count": 169,
   "id": "d2427ded-3022-4ee9-848c-1fd5511d6d26",
   "metadata": {},
   "outputs": [
    {
     "name": "stdout",
     "output_type": "stream",
     "text": [
      "X|ψ⟩ = [0. -0.8660254j 0.5+0.j       ]\n",
      "Y|ψ⟩ = [-0.8660254+0.j   0.       +0.5j]\n",
      "Z|ψ⟩ = [0.5+0.j        0. +0.8660254j]\n"
     ]
    }
   ],
   "source": [
    "# intialize the three Pauli gates X, Y, Z\n",
    "X = np.array([[0, 1], [1, 0]])\n",
    "Y = np.array([[0, -1j], [1j, 0]])\n",
    "Z = np.array([[1, 0], [0, -1]])\n",
    "\n",
    "# initialize the quantum state: 1j represents the imaginary part\n",
    "psi = np.array([0.5, -np.sqrt(3)/2 * 1j])\n",
    "\n",
    "# apply the three Pauli gates on the quantum state\n",
    "X_psi = X @ psi\n",
    "Y_psi = Y @ psi\n",
    "Z_psi = Z @ psi\n",
    "\n",
    "# print the results\n",
    "print(\"X|ψ⟩ =\", X_psi)\n",
    "print(\"Y|ψ⟩ =\", Y_psi)\n",
    "print(\"Z|ψ⟩ =\", Z_psi)"
   ]
  },
  {
   "cell_type": "markdown",
   "id": "0bb84495-55f4-4b3e-9d7f-b727d334a4dd",
   "metadata": {},
   "source": [
    "#### Code example: apply the Hadamard gate\n",
    "\n",
    "A $\\textit{Hadamard}$ gate is a unitary matrix is defined as $$ H=\\frac{1}{\\sqrt{2}} \\begin{pmatrix} 1 & 1 \\\\ 1 & -1\\end{pmatrix} $$ In the code example, we aim to apply the Hadamard on a given state and return the new state. "
   ]
  },
  {
   "cell_type": "code",
   "execution_count": 293,
   "id": "2567cbc1-2722-44c5-904e-2c36a9855609",
   "metadata": {},
   "outputs": [],
   "source": [
    "U = np.array([[1, 1], [1, -1]]) / np.sqrt(2)\n",
    "\n",
    "def apply_u(state):\n",
    "    \"\"\"Apply a quantum operation.\n",
    "\n",
    "    Args:\n",
    "        state (np.array[complex]): A normalized quantum state vector.\n",
    "\n",
    "    Returns:\n",
    "        np.array[complex]: The output state after applying U.\n",
    "    \"\"\"\n",
    "    \n",
    "    print(U.dot(state))\n"
   ]
  },
  {
   "cell_type": "code",
   "execution_count": 295,
   "id": "6981a083-1b85-4760-aa0c-3ff5fbd59e9f",
   "metadata": {},
   "outputs": [
    {
     "name": "stdout",
     "output_type": "stream",
     "text": [
      "[ 0.70710678 -0.70710678]\n"
     ]
    }
   ],
   "source": [
    "apply_u(np.array([0, 1]))"
   ]
  },
  {
   "cell_type": "markdown",
   "id": "88498844-380a-42dc-9bc8-abd4c406c76e",
   "metadata": {},
   "source": [
    "#### Code example: a quantum algorithm\n",
    "\n",
    "Let's put everything together. In our final code example, we construct a little quantum simulator intializing a state, applying a gate on it, and measure the observed state.  "
   ]
  },
  {
   "cell_type": "code",
   "execution_count": 234,
   "id": "616d6055-f663-4ed6-ba12-45fd48e56e6a",
   "metadata": {},
   "outputs": [],
   "source": [
    "# define the Hadamard gate\n",
    "U = np.array([[1, 1], [1, -1]]) / np.sqrt(2)\n",
    "\n",
    "# define the three non-identity Pauli gates\n",
    "X = np.array([[0, 1], [1, 0]])\n",
    "Y = np.array([[0, -1j], [1j, 0]])\n",
    "Z = np.array([[1, 0], [0, -1]])\n",
    "\n",
    "def initialize_state():\n",
    "    # prepare a qubit in state |0>.\n",
    "    return np.array([1,0])\n",
    "\n",
    "def apply_u(state):\n",
    "    # apply the Hadamard operation\n",
    "    return np.dot(U, state)\n",
    "\n",
    "def apply_x(state):\n",
    "    # apply the X gate\n",
    "    return np.dot(X, state)\n",
    "\n",
    "def apply_y(state):\n",
    "    # apply the Y gate\n",
    "    return np.dot(Y, state)\n",
    "\n",
    "def apply_z(state):\n",
    "    # apply the Z gate\n",
    "    return np.dot(Z, state)\n",
    "\n",
    "def measure_state(state, num_meas):\n",
    "    # measure a quantum state num_meas times\n",
    "    p_alpha = np.abs(state[0]) ** 2\n",
    "    p_beta = np.abs(state[1]) ** 2\n",
    "    meas_outcome = np.random.choice([0, 1], p=[p_alpha, p_beta], size=num_meas)\n",
    "    \n",
    "    return meas_outcome\n",
    "\n",
    "\n",
    "def quantum_algorithm(gate):\n",
    "    \"\"\"Use the functions above to implement the quantum algorithm described above.\n",
    "\n",
    "    Args:\n",
    "        gate ([string]): A letter (U, X, Y, Z) representing Hadamrd or one of the three non-identity Pauli gates\n",
    "        \n",
    "    Returns:\n",
    "        np.array[int]: the measurement results after running the algorithm 100 times\n",
    "    \"\"\"\n",
    "    init_state = initialize_state()\n",
    "\n",
    "    if gate=='U':\n",
    "        applied_state = apply_u(init_state)\n",
    "    elif gate=='X':\n",
    "        applied_state = apply_x(init_state)\n",
    "    elif gate=='Y':\n",
    "        applied_state = apply_y(init_state)\n",
    "    elif gate=='Z':\n",
    "        applied_state = apply_z(init_state)\n",
    "    \n",
    "    result = measure_state(applied_state, 100)\n",
    "\n",
    "    return result"
   ]
  },
  {
   "cell_type": "code",
   "execution_count": 238,
   "id": "d1e410e2-805f-4fc0-97b3-7daacf25c0d7",
   "metadata": {},
   "outputs": [
    {
     "data": {
      "text/plain": [
       "array([1, 1, 1, 0, 1, 1, 1, 0, 0, 0, 0, 0, 1, 0, 1, 0, 0, 1, 0, 1, 0, 0,\n",
       "       1, 0, 1, 0, 1, 1, 0, 1, 1, 0, 1, 0, 1, 0, 0, 1, 0, 1, 0, 0, 1, 1,\n",
       "       1, 1, 0, 1, 0, 0, 1, 0, 0, 1, 1, 1, 0, 0, 0, 1, 1, 0, 1, 1, 0, 1,\n",
       "       1, 1, 0, 1, 1, 1, 1, 0, 1, 0, 0, 1, 1, 1, 0, 1, 1, 0, 1, 0, 0, 1,\n",
       "       1, 1, 0, 1, 0, 0, 1, 1, 1, 1, 1, 1])"
      ]
     },
     "execution_count": 238,
     "metadata": {},
     "output_type": "execute_result"
    }
   ],
   "source": [
    "quantum_algorithm('U')"
   ]
  },
  {
   "cell_type": "markdown",
   "id": "19a840e3-b56c-49e8-9bee-7daa7d0e12f6",
   "metadata": {},
   "source": [
    "The distribution of outcomes $1$ and $0$ is very close to each other because $$ U \\ket{0} = \\frac{1}{\\sqrt{2}} \\ket{0} + \\frac{1}{\\sqrt{2}} \\ket{1}$$ It shows that the probability of getting the two outcomes is equal: %50"
   ]
  },
  {
   "cell_type": "code",
   "execution_count": 246,
   "id": "3bf79a85-40cd-43b4-9794-7475f06113d7",
   "metadata": {},
   "outputs": [
    {
     "data": {
      "image/png": "[encoded data removed]",
      "text/plain": [
       "<Figure size 640x480 with 1 Axes>"
      ]
     },
     "metadata": {},
     "output_type": "display_data"
    }
   ],
   "source": [
    "# viusalize the measurement outcomes after applying the Hadamard on the state\n",
    "\n",
    "import matplotlib.pyplot as plt\n",
    "from collections import Counter\n",
    "\n",
    "results = quantum_algorithm('U')\n",
    "counts = Counter(results)\n",
    "plt.bar(counts.keys(), counts.values())\n",
    "plt.xticks([0, 1])\n",
    "plt.xlabel('Measurement outcome')\n",
    "plt.ylabel('Frequency')\n",
    "plt.title('Measurement Results')\n",
    "plt.show()"
   ]
  },
  {
   "cell_type": "code",
   "execution_count": 240,
   "id": "8b7db993-f5ab-42d8-9794-adb9ef2e49db",
   "metadata": {},
   "outputs": [
    {
     "data": {
      "text/plain": [
       "array([1, 1, 1, 1, 1, 1, 1, 1, 1, 1, 1, 1, 1, 1, 1, 1, 1, 1, 1, 1, 1, 1,\n",
       "       1, 1, 1, 1, 1, 1, 1, 1, 1, 1, 1, 1, 1, 1, 1, 1, 1, 1, 1, 1, 1, 1,\n",
       "       1, 1, 1, 1, 1, 1, 1, 1, 1, 1, 1, 1, 1, 1, 1, 1, 1, 1, 1, 1, 1, 1,\n",
       "       1, 1, 1, 1, 1, 1, 1, 1, 1, 1, 1, 1, 1, 1, 1, 1, 1, 1, 1, 1, 1, 1,\n",
       "       1, 1, 1, 1, 1, 1, 1, 1, 1, 1, 1, 1])"
      ]
     },
     "execution_count": 240,
     "metadata": {},
     "output_type": "execute_result"
    }
   ],
   "source": [
    "quantum_algorithm('X')"
   ]
  },
  {
   "cell_type": "markdown",
   "id": "45c37350-a096-44e0-aa73-faf9405dea86",
   "metadata": {},
   "source": [
    "Remind that $X$ is a bit-flip gate: $X \\ket{0} = \\ket{1}$. Thus, all the outcomes are $1$."
   ]
  },
  {
   "cell_type": "code",
   "execution_count": 248,
   "id": "addf1e19-31af-4a81-b64c-4e8f05e863fb",
   "metadata": {},
   "outputs": [
    {
     "data": {
      "image/png": "[encoded data removed]",
      "text/plain": [
       "<Figure size 640x480 with 1 Axes>"
      ]
     },
     "metadata": {},
     "output_type": "display_data"
    }
   ],
   "source": [
    "# viusalize the measurement outcomes after applying the X-gate on the state\n",
    "\n",
    "import matplotlib.pyplot as plt\n",
    "from collections import Counter\n",
    "\n",
    "results = quantum_algorithm('X')\n",
    "counts = Counter(results)\n",
    "plt.bar(counts.keys(), counts.values())\n",
    "plt.xticks([0, 1])\n",
    "plt.xlabel('Measurement outcome')\n",
    "plt.ylabel('Frequency')\n",
    "plt.title('Measurement Results')\n",
    "plt.show()"
   ]
  },
  {
   "cell_type": "code",
   "execution_count": 242,
   "id": "ca8d4c11-4f82-4aea-a994-d0c90c922ad1",
   "metadata": {},
   "outputs": [
    {
     "data": {
      "text/plain": [
       "array([1, 1, 1, 1, 1, 1, 1, 1, 1, 1, 1, 1, 1, 1, 1, 1, 1, 1, 1, 1, 1, 1,\n",
       "       1, 1, 1, 1, 1, 1, 1, 1, 1, 1, 1, 1, 1, 1, 1, 1, 1, 1, 1, 1, 1, 1,\n",
       "       1, 1, 1, 1, 1, 1, 1, 1, 1, 1, 1, 1, 1, 1, 1, 1, 1, 1, 1, 1, 1, 1,\n",
       "       1, 1, 1, 1, 1, 1, 1, 1, 1, 1, 1, 1, 1, 1, 1, 1, 1, 1, 1, 1, 1, 1,\n",
       "       1, 1, 1, 1, 1, 1, 1, 1, 1, 1, 1, 1])"
      ]
     },
     "execution_count": 242,
     "metadata": {},
     "output_type": "execute_result"
    }
   ],
   "source": [
    "quantum_algorithm('Y')"
   ]
  },
  {
   "cell_type": "markdown",
   "id": "6f2a84d2-ebb3-4541-bb11-be51d19e2288",
   "metadata": {},
   "source": [
    "All of the outcomes are $1$ because $Y$ is a bit- and phase-flip gate: $Y \\ket{0} = i \\ket{1}$. Since the imaginary part $i$ has no observable effect, we ignore it. "
   ]
  },
  {
   "cell_type": "code",
   "execution_count": 250,
   "id": "dcf8834d-a601-4452-a8cf-462463f16d00",
   "metadata": {},
   "outputs": [
    {
     "data": {
      "image/png": "[encoded data removed]",
      "text/plain": [
       "<Figure size 640x480 with 1 Axes>"
      ]
     },
     "metadata": {},
     "output_type": "display_data"
    }
   ],
   "source": [
    "# viusalize the measurement outcomes after applying the Y-gate on the state\n",
    "\n",
    "import matplotlib.pyplot as plt\n",
    "from collections import Counter\n",
    "\n",
    "results = quantum_algorithm('Y')\n",
    "counts = Counter(results)\n",
    "plt.bar(counts.keys(), counts.values())\n",
    "plt.xticks([0, 1])\n",
    "plt.xlabel('Measurement outcome')\n",
    "plt.ylabel('Frequency')\n",
    "plt.title('Measurement Results')\n",
    "plt.show()"
   ]
  },
  {
   "cell_type": "code",
   "execution_count": 244,
   "id": "e0606d25-d557-4ed0-8e29-999186717238",
   "metadata": {},
   "outputs": [
    {
     "data": {
      "text/plain": [
       "array([0, 0, 0, 0, 0, 0, 0, 0, 0, 0, 0, 0, 0, 0, 0, 0, 0, 0, 0, 0, 0, 0,\n",
       "       0, 0, 0, 0, 0, 0, 0, 0, 0, 0, 0, 0, 0, 0, 0, 0, 0, 0, 0, 0, 0, 0,\n",
       "       0, 0, 0, 0, 0, 0, 0, 0, 0, 0, 0, 0, 0, 0, 0, 0, 0, 0, 0, 0, 0, 0,\n",
       "       0, 0, 0, 0, 0, 0, 0, 0, 0, 0, 0, 0, 0, 0, 0, 0, 0, 0, 0, 0, 0, 0,\n",
       "       0, 0, 0, 0, 0, 0, 0, 0, 0, 0, 0, 0])"
      ]
     },
     "execution_count": 244,
     "metadata": {},
     "output_type": "execute_result"
    }
   ],
   "source": [
    "quantum_algorithm('Z')"
   ]
  },
  {
   "cell_type": "markdown",
   "id": "4416614c-6bb1-4faf-a6e4-8cc20cf8db12",
   "metadata": {},
   "source": [
    "Clearly, Z is phase-flip gate and does not change the bits: $Z\\ket{0} = \\ket{0}$. Therefore, we obtain $0$ with the 100% probability.  "
   ]
  },
  {
   "cell_type": "code",
   "execution_count": 252,
   "id": "ad0585cc-8d8e-47e2-9803-5a198bbae3d3",
   "metadata": {},
   "outputs": [
    {
     "data": {
      "image/png": "[encoded data removed]",
      "text/plain": [
       "<Figure size 640x480 with 1 Axes>"
      ]
     },
     "metadata": {},
     "output_type": "display_data"
    }
   ],
   "source": [
    "# viusalize the measurement outcomes after applying the Z-gate on the state\n",
    "\n",
    "import matplotlib.pyplot as plt\n",
    "from collections import Counter\n",
    "\n",
    "results = quantum_algorithm('Z')\n",
    "counts = Counter(results)\n",
    "plt.bar(counts.keys(), counts.values())\n",
    "plt.xticks([0, 1])\n",
    "plt.xlabel('Measurement outcome')\n",
    "plt.ylabel('Frequency')\n",
    "plt.title('Measurement Results')\n",
    "plt.show()"
   ]
  },
  {
   "cell_type": "markdown",
   "id": "d5f598b8-13c0-4d9c-a9a3-b618de43a0c9",
   "metadata": {},
   "source": [
    "## Conclusion and Next Steps\n",
    "\n",
    "In this notebook, we introduced the fundamental concepts of quantum computing:\n",
    "\n",
    "- The mathematical structure of qubits and their representation.\n",
    "- Key quantum operations such as measurement and unitary transformations.\n",
    "- The role of quantum gates like the Pauli matrices and their impact on quantum states.\n",
    "\n",
    "In the next notes, we will explore quantum circuits. "
   ]
  },
  {
   "cell_type": "markdown",
   "id": "a550ae93-79de-4047-a52e-4b960d8fa7c8",
   "metadata": {},
   "source": [
    "## References\n",
    "\n",
    "Nadkarni, P. J., Rengaswamy, N., & Vasić, B. (2024). Tutorial on quantum error correction for 2024 quantum information knowledge (quik) workshop. arXiv preprint arXiv:2407.12737.\n",
    "\n",
    "De Wolf, R. (2019). Quantum computing: Lecture notes. arXiv preprint arXiv:1907.09415.\n",
    "\n",
    "Walter, M., & Ozols, M. (2022). Lectures Notes on Quantum Information Theory. University of Amsterdam, Tech. Rep.\n",
    "\n",
    "Aaronson, S. (2022, May). Introduction to quantum information science II lecture notes.\n",
    "\n",
    "Christandl, M. (2012, January). Quantum information theory.\n",
    "\n",
    "Roffe, J. (2019). Quantum error correction: an introductory guide. Contemporary Physics, 60(3), 226-245."
   ]
  },
  {
   "cell_type": "code",
   "execution_count": null,
   "id": "65b63741-3519-43c5-9a7c-88d3155610d3",
   "metadata": {},
   "outputs": [],
   "source": []
  }
 ],
 "metadata": {
  "kernelspec": {
   "display_name": "Python [conda env:base] *",
   "language": "python",
   "name": "conda-base-py"
  },
  "language_info": {
   "codemirror_mode": {
    "name": "ipython",
    "version": 3
   },
   "file_extension": ".py",
   "mimetype": "text/x-python",
   "name": "python",
   "nbconvert_exporter": "python",
   "pygments_lexer": "ipython3",
   "version": "3.12.7"
  }
 },
 "nbformat": 4,
 "nbformat_minor": 5
}
